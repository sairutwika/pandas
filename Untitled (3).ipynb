{
 "cells": [
  {
   "cell_type": "code",
   "execution_count": 61,
   "id": "87526493-2a1a-49e3-8d7f-4700697026fd",
   "metadata": {},
   "outputs": [
    {
     "name": "stdout",
     "output_type": "stream",
     "text": [
      "Requirement already satisfied: pandas in c:\\users\\sairu\\anaconda3\\lib\\site-packages (2.2.3)\n",
      "Requirement already satisfied: numpy>=1.23.2 in c:\\users\\sairu\\anaconda3\\lib\\site-packages (from pandas) (1.26.4)\n",
      "Requirement already satisfied: python-dateutil>=2.8.2 in c:\\users\\sairu\\anaconda3\\lib\\site-packages (from pandas) (2.8.2)\n",
      "Requirement already satisfied: pytz>=2020.1 in c:\\users\\sairu\\anaconda3\\lib\\site-packages (from pandas) (2023.3.post1)\n",
      "Requirement already satisfied: tzdata>=2022.7 in c:\\users\\sairu\\anaconda3\\lib\\site-packages (from pandas) (2023.3)\n",
      "Requirement already satisfied: six>=1.5 in c:\\users\\sairu\\anaconda3\\lib\\site-packages (from python-dateutil>=2.8.2->pandas) (1.16.0)\n"
     ]
    }
   ],
   "source": [
    "! pip install pandas"
   ]
  },
  {
   "cell_type": "code",
   "execution_count": 81,
   "id": "9bf6adbb-b7b3-4648-a554-b4ab30f51199",
   "metadata": {},
   "outputs": [],
   "source": [
    "import pandas as pd"
   ]
  },
  {
   "cell_type": "code",
   "execution_count": 63,
   "id": "4b01d277-395b-46f5-83bb-d7865a55f840",
   "metadata": {},
   "outputs": [
    {
     "data": {
      "text/html": [
       "<div>\n",
       "<style scoped>\n",
       "    .dataframe tbody tr th:only-of-type {\n",
       "        vertical-align: middle;\n",
       "    }\n",
       "\n",
       "    .dataframe tbody tr th {\n",
       "        vertical-align: top;\n",
       "    }\n",
       "\n",
       "    .dataframe thead th {\n",
       "        text-align: right;\n",
       "    }\n",
       "</style>\n",
       "<table border=\"1\" class=\"dataframe\">\n",
       "  <thead>\n",
       "    <tr style=\"text-align: right;\">\n",
       "      <th></th>\n",
       "      <th>Movie Name</th>\n",
       "      <th>Genre</th>\n",
       "      <th>Release_Year</th>\n",
       "      <th>IMDb_Rating</th>\n",
       "      <th>Revenue</th>\n",
       "    </tr>\n",
       "  </thead>\n",
       "  <tbody>\n",
       "    <tr>\n",
       "      <th>0</th>\n",
       "      <td>Movie 1</td>\n",
       "      <td>Sci-Fi</td>\n",
       "      <td>2000</td>\n",
       "      <td>6.0</td>\n",
       "      <td>1680.53</td>\n",
       "    </tr>\n",
       "    <tr>\n",
       "      <th>1</th>\n",
       "      <td>Movie 2</td>\n",
       "      <td>Adventure</td>\n",
       "      <td>2000</td>\n",
       "      <td>2.2</td>\n",
       "      <td>987.24</td>\n",
       "    </tr>\n",
       "    <tr>\n",
       "      <th>2</th>\n",
       "      <td>Movie 3</td>\n",
       "      <td>Romance</td>\n",
       "      <td>2002</td>\n",
       "      <td>5.2</td>\n",
       "      <td>1122.13</td>\n",
       "    </tr>\n",
       "    <tr>\n",
       "      <th>3</th>\n",
       "      <td>Movie 4</td>\n",
       "      <td>Romance</td>\n",
       "      <td>2001</td>\n",
       "      <td>4.5</td>\n",
       "      <td>581.84</td>\n",
       "    </tr>\n",
       "    <tr>\n",
       "      <th>4</th>\n",
       "      <td>Movie 5</td>\n",
       "      <td>Action</td>\n",
       "      <td>2012</td>\n",
       "      <td>6.6</td>\n",
       "      <td>1205.51</td>\n",
       "    </tr>\n",
       "    <tr>\n",
       "      <th>...</th>\n",
       "      <td>...</td>\n",
       "      <td>...</td>\n",
       "      <td>...</td>\n",
       "      <td>...</td>\n",
       "      <td>...</td>\n",
       "    </tr>\n",
       "    <tr>\n",
       "      <th>995</th>\n",
       "      <td>Movie 996</td>\n",
       "      <td>Sci-Fi</td>\n",
       "      <td>2013</td>\n",
       "      <td>8.7</td>\n",
       "      <td>456.39</td>\n",
       "    </tr>\n",
       "    <tr>\n",
       "      <th>996</th>\n",
       "      <td>Movie 997</td>\n",
       "      <td>Adventure</td>\n",
       "      <td>1993</td>\n",
       "      <td>6.2</td>\n",
       "      <td>1255.27</td>\n",
       "    </tr>\n",
       "    <tr>\n",
       "      <th>997</th>\n",
       "      <td>Movie 998</td>\n",
       "      <td>Fantasy</td>\n",
       "      <td>2016</td>\n",
       "      <td>8.1</td>\n",
       "      <td>1161.96</td>\n",
       "    </tr>\n",
       "    <tr>\n",
       "      <th>998</th>\n",
       "      <td>Movie 999</td>\n",
       "      <td>Action</td>\n",
       "      <td>1996</td>\n",
       "      <td>8.9</td>\n",
       "      <td>941.67</td>\n",
       "    </tr>\n",
       "    <tr>\n",
       "      <th>999</th>\n",
       "      <td>Movie 1000</td>\n",
       "      <td>Horror</td>\n",
       "      <td>1995</td>\n",
       "      <td>9.4</td>\n",
       "      <td>1390.70</td>\n",
       "    </tr>\n",
       "  </tbody>\n",
       "</table>\n",
       "<p>1000 rows × 5 columns</p>\n",
       "</div>"
      ],
      "text/plain": [
       "     Movie Name      Genre  Release_Year  IMDb_Rating  Revenue\n",
       "0       Movie 1     Sci-Fi          2000          6.0  1680.53\n",
       "1       Movie 2  Adventure          2000          2.2   987.24\n",
       "2       Movie 3    Romance          2002          5.2  1122.13\n",
       "3       Movie 4    Romance          2001          4.5   581.84\n",
       "4       Movie 5     Action          2012          6.6  1205.51\n",
       "..          ...        ...           ...          ...      ...\n",
       "995   Movie 996     Sci-Fi          2013          8.7   456.39\n",
       "996   Movie 997  Adventure          1993          6.2  1255.27\n",
       "997   Movie 998    Fantasy          2016          8.1  1161.96\n",
       "998   Movie 999     Action          1996          8.9   941.67\n",
       "999  Movie 1000     Horror          1995          9.4  1390.70\n",
       "\n",
       "[1000 rows x 5 columns]"
      ]
     },
     "metadata": {},
     "output_type": "display_data"
    }
   ],
   "source": [
    "df = pd.read_excel(\"C:/Users/sairu/Downloads/Movies_Dataset.xlsx\")\n",
    "display(df)"
   ]
  },
  {
   "cell_type": "code",
   "execution_count": 64,
   "id": "f8622401-b111-4782-88a1-17d27c016ee8",
   "metadata": {},
   "outputs": [
    {
     "name": "stdout",
     "output_type": "stream",
     "text": [
      "    Movie Name   Genre  Release_Year  IMDb_Rating  Revenue\n",
      "4      Movie 5  Action          2012          6.6  1205.51\n",
      "34    Movie 35  Action          2009          8.7   545.60\n",
      "64    Movie 65  Action          2023          7.7  1137.79\n",
      "65    Movie 66  Action          1999          3.1  1335.85\n",
      "73    Movie 74  Action          2001          4.1   350.80\n",
      "..         ...     ...           ...          ...      ...\n",
      "930  Movie 931  Action          1994          8.6  1863.66\n",
      "944  Movie 945  Action          2004          7.5  1709.81\n",
      "980  Movie 981  Action          2022          5.2    28.40\n",
      "988  Movie 989  Action          2023          4.1   231.67\n",
      "998  Movie 999  Action          1996          8.9   941.67\n",
      "\n",
      "[104 rows x 5 columns]\n"
     ]
    }
   ],
   "source": [
    "df_action = df[df[\"Genre\"] == \"Action\"]\n",
    "print(df_action)"
   ]
  },
  {
   "cell_type": "code",
   "execution_count": 65,
   "id": "154cfd56-d7a4-4541-8792-c5398cd08fd8",
   "metadata": {},
   "outputs": [
    {
     "name": "stdout",
     "output_type": "stream",
     "text": [
      "    Movie Name     Genre  Release_Year  IMDb_Rating  Revenue\n",
      "2      Movie 3   Romance          2002          5.2  1122.13\n",
      "3      Movie 4   Romance          2001          4.5   581.84\n",
      "4      Movie 5    Action          2012          6.6  1205.51\n",
      "6      Movie 7   Mystery          2021          5.1  1683.99\n",
      "7      Movie 8    Comedy          2005          4.0  1062.13\n",
      "..         ...       ...           ...          ...      ...\n",
      "988  Movie 989    Action          2023          4.1   231.67\n",
      "989  Movie 990   Fantasy          2004          1.6  1056.58\n",
      "991  Movie 992  Thriller          2004          9.2   251.25\n",
      "995  Movie 996    Sci-Fi          2013          8.7   456.39\n",
      "997  Movie 998   Fantasy          2016          8.1  1161.96\n",
      "\n",
      "[518 rows x 5 columns]\n"
     ]
    }
   ],
   "source": [
    "df_year = df[df[\"Release_Year\"] >2000]\n",
    "print(df_year)"
   ]
  },
  {
   "cell_type": "code",
   "execution_count": 66,
   "id": "66c05f4e-6028-4f74-90c0-f0c675f8fa2f",
   "metadata": {},
   "outputs": [
    {
     "name": "stdout",
     "output_type": "stream",
     "text": [
      "Index(['Movie Name', 'Genre', 'Release_Year', 'IMDb_Rating', 'Revenue'], dtype='object')\n"
     ]
    }
   ],
   "source": [
    "print(df.columns)"
   ]
  },
  {
   "cell_type": "code",
   "execution_count": 67,
   "id": "f957064a-a255-4989-9afa-660975ca8e59",
   "metadata": {},
   "outputs": [
    {
     "name": "stdout",
     "output_type": "stream",
     "text": [
      "0      False\n",
      "1      False\n",
      "2      False\n",
      "3      False\n",
      "4      False\n",
      "       ...  \n",
      "995     True\n",
      "996    False\n",
      "997    False\n",
      "998     True\n",
      "999     True\n",
      "Name: IMDb_Rating, Length: 1000, dtype: bool\n"
     ]
    }
   ],
   "source": [
    "print(df.IMDb_Rating>8.5)"
   ]
  },
  {
   "cell_type": "code",
   "execution_count": 68,
   "id": "3d1cff18-6de5-42ad-b39e-c504e2dd9bc8",
   "metadata": {},
   "outputs": [
    {
     "name": "stdout",
     "output_type": "stream",
     "text": [
      "     Movie Name      Genre\n",
      "0       Movie 1     Sci-Fi\n",
      "1       Movie 2  Adventure\n",
      "2       Movie 3    Romance\n",
      "3       Movie 4    Romance\n",
      "4       Movie 5     Action\n",
      "..          ...        ...\n",
      "995   Movie 996     Sci-Fi\n",
      "996   Movie 997  Adventure\n",
      "997   Movie 998    Fantasy\n",
      "998   Movie 999     Action\n",
      "999  Movie 1000     Horror\n",
      "\n",
      "[1000 rows x 2 columns]\n"
     ]
    }
   ],
   "source": [
    "df_selected = df[[\"Movie Name\", \"Genre\"]]\n",
    "print(df_selected)"
   ]
  },
  {
   "cell_type": "code",
   "execution_count": 69,
   "id": "04c88dbf-99f5-4549-a050-215165cf35eb",
   "metadata": {},
   "outputs": [
    {
     "name": "stdout",
     "output_type": "stream",
     "text": [
      "     Movie Name      Genre  Release_Year  IMDb_Rating  Revenue\n",
      "0       Movie 1     Sci-Fi          2000          6.0  1680.53\n",
      "1       Movie 2  Adventure          2000          2.2   987.24\n",
      "2       Movie 3    Romance          2002          5.2  1122.13\n",
      "3       Movie 4    Romance          2001          4.5   581.84\n",
      "5       Movie 6    Fantasy          1997          2.4   485.22\n",
      "..          ...        ...           ...          ...      ...\n",
      "991   Movie 992   Thriller          2004          9.2   251.25\n",
      "994   Movie 995     Sci-Fi          1997          2.0   342.98\n",
      "996   Movie 997  Adventure          1993          6.2  1255.27\n",
      "998   Movie 999     Action          1996          8.9   941.67\n",
      "999  Movie 1000     Horror          1995          9.4  1390.70\n",
      "\n",
      "[500 rows x 5 columns]\n"
     ]
    }
   ],
   "source": [
    "df_release = df[(df[\"Release_Year\"] >= 1990) & (df[\"Release_Year\"] <= 2010)]\n",
    "print(df_release)\n"
   ]
  },
  {
   "cell_type": "raw",
   "id": "438f58ea-023a-4be1-88c9-2f64fb2c43fa",
   "metadata": {},
   "source": []
  },
  {
   "cell_type": "code",
   "execution_count": 70,
   "id": "2912fa81-3b93-4833-bb04-cd271497d2a7",
   "metadata": {},
   "outputs": [
    {
     "name": "stdout",
     "output_type": "stream",
     "text": [
      "1000\n"
     ]
    }
   ],
   "source": [
    "df_count = df.Genre.count()\n",
    "print(df_count)"
   ]
  },
  {
   "cell_type": "code",
   "execution_count": 71,
   "id": "0e20a710-ecdd-4601-9b04-1c336e2139b9",
   "metadata": {},
   "outputs": [
    {
     "data": {
      "text/plain": [
       "10.0"
      ]
     },
     "metadata": {},
     "output_type": "display_data"
    }
   ],
   "source": [
    "df_max = df.IMDb_Rating.max()\n",
    "display(df_max)"
   ]
  },
  {
   "cell_type": "code",
   "execution_count": 72,
   "id": "fe5da255-6b0f-4ae7-9737-ad404194de49",
   "metadata": {},
   "outputs": [
    {
     "data": {
      "text/plain": [
       "5.458600000000001"
      ]
     },
     "metadata": {},
     "output_type": "display_data"
    }
   ],
   "source": [
    "df_avearge = df.IMDb_Rating.mean() \n",
    "display(df_avearge)"
   ]
  },
  {
   "cell_type": "code",
   "execution_count": 73,
   "id": "d17898b3-a205-43c1-9423-06f5c34dc826",
   "metadata": {},
   "outputs": [
    {
     "data": {
      "text/plain": [
       "1049716.26"
      ]
     },
     "metadata": {},
     "output_type": "display_data"
    }
   ],
   "source": [
    "df_total = df.Revenue.sum()\n",
    "display(df_total)"
   ]
  },
  {
   "cell_type": "code",
   "execution_count": 74,
   "id": "a18addcf-2d01-4da4-bef9-69c97a88f188",
   "metadata": {},
   "outputs": [
    {
     "data": {
      "text/plain": [
       "0      False\n",
       "1      False\n",
       "2      False\n",
       "3      False\n",
       "4      False\n",
       "       ...  \n",
       "995    False\n",
       "996    False\n",
       "997    False\n",
       "998    False\n",
       "999    False\n",
       "Name: Revenue, Length: 1000, dtype: bool"
      ]
     },
     "metadata": {},
     "output_type": "display_data"
    }
   ],
   "source": [
    "df_earnings = df.Revenue>50000000\n",
    "display(df_earnings)\n"
   ]
  },
  {
   "cell_type": "code",
   "execution_count": 75,
   "id": "df8635f3-c0ec-4b9f-837d-42217c18d655",
   "metadata": {},
   "outputs": [
    {
     "data": {
      "text/html": [
       "<div>\n",
       "<style scoped>\n",
       "    .dataframe tbody tr th:only-of-type {\n",
       "        vertical-align: middle;\n",
       "    }\n",
       "\n",
       "    .dataframe tbody tr th {\n",
       "        vertical-align: top;\n",
       "    }\n",
       "\n",
       "    .dataframe thead th {\n",
       "        text-align: right;\n",
       "    }\n",
       "</style>\n",
       "<table border=\"1\" class=\"dataframe\">\n",
       "  <thead>\n",
       "    <tr style=\"text-align: right;\">\n",
       "      <th></th>\n",
       "      <th>Movie Name</th>\n",
       "      <th>Genre</th>\n",
       "      <th>Release_Year</th>\n",
       "      <th>IMDb_Rating</th>\n",
       "      <th>Revenue</th>\n",
       "    </tr>\n",
       "  </thead>\n",
       "  <tbody>\n",
       "  </tbody>\n",
       "</table>\n",
       "</div>"
      ],
      "text/plain": [
       "Empty DataFrame\n",
       "Columns: [Movie Name, Genre, Release_Year, IMDb_Rating, Revenue]\n",
       "Index: []"
      ]
     },
     "metadata": {},
     "output_type": "display_data"
    }
   ],
   "source": [
    "df_high_earning = df[df[\"Revenue\"] > 500000000]\n",
    "display(df_high_earning)\n"
   ]
  },
  {
   "cell_type": "code",
   "execution_count": 76,
   "id": "0eb3c30e-54cf-434c-8917-ecc61fa0ce7c",
   "metadata": {},
   "outputs": [
    {
     "data": {
      "text/html": [
       "<div>\n",
       "<style scoped>\n",
       "    .dataframe tbody tr th:only-of-type {\n",
       "        vertical-align: middle;\n",
       "    }\n",
       "\n",
       "    .dataframe tbody tr th {\n",
       "        vertical-align: top;\n",
       "    }\n",
       "\n",
       "    .dataframe thead th {\n",
       "        text-align: right;\n",
       "    }\n",
       "</style>\n",
       "<table border=\"1\" class=\"dataframe\">\n",
       "  <thead>\n",
       "    <tr style=\"text-align: right;\">\n",
       "      <th></th>\n",
       "      <th>Movie Name</th>\n",
       "      <th>Genre</th>\n",
       "      <th>Release_Year</th>\n",
       "      <th>IMDb_Rating</th>\n",
       "      <th>Revenue</th>\n",
       "      <th>Rank</th>\n",
       "    </tr>\n",
       "  </thead>\n",
       "  <tbody>\n",
       "    <tr>\n",
       "      <th>628</th>\n",
       "      <td>Movie 629</td>\n",
       "      <td>Mystery</td>\n",
       "      <td>1994</td>\n",
       "      <td>10.0</td>\n",
       "      <td>644.31</td>\n",
       "      <td>1.0</td>\n",
       "    </tr>\n",
       "    <tr>\n",
       "      <th>610</th>\n",
       "      <td>Movie 611</td>\n",
       "      <td>Mystery</td>\n",
       "      <td>2017</td>\n",
       "      <td>10.0</td>\n",
       "      <td>1355.06</td>\n",
       "      <td>1.0</td>\n",
       "    </tr>\n",
       "    <tr>\n",
       "      <th>472</th>\n",
       "      <td>Movie 473</td>\n",
       "      <td>Fantasy</td>\n",
       "      <td>1985</td>\n",
       "      <td>10.0</td>\n",
       "      <td>845.18</td>\n",
       "      <td>1.0</td>\n",
       "    </tr>\n",
       "    <tr>\n",
       "      <th>241</th>\n",
       "      <td>Movie 242</td>\n",
       "      <td>Comedy</td>\n",
       "      <td>2006</td>\n",
       "      <td>10.0</td>\n",
       "      <td>802.61</td>\n",
       "      <td>1.0</td>\n",
       "    </tr>\n",
       "    <tr>\n",
       "      <th>564</th>\n",
       "      <td>Movie 565</td>\n",
       "      <td>Action</td>\n",
       "      <td>2020</td>\n",
       "      <td>10.0</td>\n",
       "      <td>943.50</td>\n",
       "      <td>1.0</td>\n",
       "    </tr>\n",
       "    <tr>\n",
       "      <th>...</th>\n",
       "      <td>...</td>\n",
       "      <td>...</td>\n",
       "      <td>...</td>\n",
       "      <td>...</td>\n",
       "      <td>...</td>\n",
       "      <td>...</td>\n",
       "    </tr>\n",
       "    <tr>\n",
       "      <th>758</th>\n",
       "      <td>Movie 759</td>\n",
       "      <td>Horror</td>\n",
       "      <td>2000</td>\n",
       "      <td>1.0</td>\n",
       "      <td>1590.35</td>\n",
       "      <td>91.0</td>\n",
       "    </tr>\n",
       "    <tr>\n",
       "      <th>297</th>\n",
       "      <td>Movie 298</td>\n",
       "      <td>Comedy</td>\n",
       "      <td>2006</td>\n",
       "      <td>1.0</td>\n",
       "      <td>692.08</td>\n",
       "      <td>91.0</td>\n",
       "    </tr>\n",
       "    <tr>\n",
       "      <th>699</th>\n",
       "      <td>Movie 700</td>\n",
       "      <td>Thriller</td>\n",
       "      <td>1984</td>\n",
       "      <td>1.0</td>\n",
       "      <td>9.60</td>\n",
       "      <td>91.0</td>\n",
       "    </tr>\n",
       "    <tr>\n",
       "      <th>577</th>\n",
       "      <td>Movie 578</td>\n",
       "      <td>Action</td>\n",
       "      <td>1999</td>\n",
       "      <td>1.0</td>\n",
       "      <td>1621.75</td>\n",
       "      <td>91.0</td>\n",
       "    </tr>\n",
       "    <tr>\n",
       "      <th>80</th>\n",
       "      <td>Movie 81</td>\n",
       "      <td>Adventure</td>\n",
       "      <td>2002</td>\n",
       "      <td>1.0</td>\n",
       "      <td>1759.50</td>\n",
       "      <td>91.0</td>\n",
       "    </tr>\n",
       "  </tbody>\n",
       "</table>\n",
       "<p>1000 rows × 6 columns</p>\n",
       "</div>"
      ],
      "text/plain": [
       "    Movie Name      Genre  Release_Year  IMDb_Rating  Revenue  Rank\n",
       "628  Movie 629    Mystery          1994         10.0   644.31   1.0\n",
       "610  Movie 611    Mystery          2017         10.0  1355.06   1.0\n",
       "472  Movie 473    Fantasy          1985         10.0   845.18   1.0\n",
       "241  Movie 242     Comedy          2006         10.0   802.61   1.0\n",
       "564  Movie 565     Action          2020         10.0   943.50   1.0\n",
       "..         ...        ...           ...          ...      ...   ...\n",
       "758  Movie 759     Horror          2000          1.0  1590.35  91.0\n",
       "297  Movie 298     Comedy          2006          1.0   692.08  91.0\n",
       "699  Movie 700   Thriller          1984          1.0     9.60  91.0\n",
       "577  Movie 578     Action          1999          1.0  1621.75  91.0\n",
       "80    Movie 81  Adventure          2002          1.0  1759.50  91.0\n",
       "\n",
       "[1000 rows x 6 columns]"
      ]
     },
     "metadata": {},
     "output_type": "display_data"
    }
   ],
   "source": [
    "df[\"Rank\"] = df[\"IMDb_Rating\"].rank(ascending=False, method=\"dense\")\n",
    "df_sorted = df.sort_values(by=\"Rank\")\n",
    "display(df_sorted)\n"
   ]
  },
  {
   "cell_type": "code",
   "execution_count": 77,
   "id": "e8d2f45a-c49f-4982-933b-b5abe61e5b87",
   "metadata": {},
   "outputs": [
    {
     "name": "stdout",
     "output_type": "stream",
     "text": [
      "    Movie Name      Genre  Release_Year  IMDb_Rating  Revenue  Rank\n",
      "320  Movie 321    Romance          2024          4.2   477.47  59.0\n",
      "211  Movie 212     Comedy          2024          1.5   837.32  86.0\n",
      "489  Movie 490   Thriller          2024          3.2  1536.79  69.0\n",
      "808  Movie 809     Action          2024          6.0   714.96  41.0\n",
      "917  Movie 918     Horror          2024          1.1  1042.80  90.0\n",
      "..         ...        ...           ...          ...      ...   ...\n",
      "509  Movie 510    Fantasy          1980          6.3  1260.11  38.0\n",
      "798  Movie 799      Drama          1980          3.1  1587.13  70.0\n",
      "496  Movie 497    Fantasy          1980          4.7  1683.97  54.0\n",
      "794  Movie 795  Adventure          1980          4.5  1346.01  56.0\n",
      "170  Movie 171    Mystery          1980          4.6  1684.78  55.0\n",
      "\n",
      "[1000 rows x 6 columns]\n"
     ]
    }
   ],
   "source": [
    "df_descending = df.sort_values(\"Release_Year\",ascending = False)\n",
    "print(df_descending)"
   ]
  },
  {
   "cell_type": "code",
   "execution_count": 78,
   "id": "2a51153c-e5a8-4d21-8510-240dbdc834a7",
   "metadata": {},
   "outputs": [
    {
     "data": {
      "text/html": [
       "<div>\n",
       "<style scoped>\n",
       "    .dataframe tbody tr th:only-of-type {\n",
       "        vertical-align: middle;\n",
       "    }\n",
       "\n",
       "    .dataframe tbody tr th {\n",
       "        vertical-align: top;\n",
       "    }\n",
       "\n",
       "    .dataframe thead th {\n",
       "        text-align: right;\n",
       "    }\n",
       "</style>\n",
       "<table border=\"1\" class=\"dataframe\">\n",
       "  <thead>\n",
       "    <tr style=\"text-align: right;\">\n",
       "      <th></th>\n",
       "      <th>Movie Name</th>\n",
       "      <th>Genre</th>\n",
       "      <th>Release_Year</th>\n",
       "      <th>IMDb_Rating</th>\n",
       "      <th>Revenue</th>\n",
       "      <th>Rank</th>\n",
       "    </tr>\n",
       "  </thead>\n",
       "  <tbody>\n",
       "    <tr>\n",
       "      <th>0</th>\n",
       "      <td>Movie 1</td>\n",
       "      <td>Sci-Fi</td>\n",
       "      <td>2000</td>\n",
       "      <td>6.0</td>\n",
       "      <td>1680.53</td>\n",
       "      <td>41.0</td>\n",
       "    </tr>\n",
       "    <tr>\n",
       "      <th>1</th>\n",
       "      <td>Movie 2</td>\n",
       "      <td>Adventure</td>\n",
       "      <td>2000</td>\n",
       "      <td>2.2</td>\n",
       "      <td>987.24</td>\n",
       "      <td>79.0</td>\n",
       "    </tr>\n",
       "    <tr>\n",
       "      <th>2</th>\n",
       "      <td>Movie 3</td>\n",
       "      <td>Romance</td>\n",
       "      <td>2002</td>\n",
       "      <td>5.2</td>\n",
       "      <td>1122.13</td>\n",
       "      <td>49.0</td>\n",
       "    </tr>\n",
       "    <tr>\n",
       "      <th>3</th>\n",
       "      <td>Movie 4</td>\n",
       "      <td>Romance</td>\n",
       "      <td>2001</td>\n",
       "      <td>4.5</td>\n",
       "      <td>581.84</td>\n",
       "      <td>56.0</td>\n",
       "    </tr>\n",
       "    <tr>\n",
       "      <th>4</th>\n",
       "      <td>Movie 5</td>\n",
       "      <td>Action</td>\n",
       "      <td>2012</td>\n",
       "      <td>6.6</td>\n",
       "      <td>1205.51</td>\n",
       "      <td>35.0</td>\n",
       "    </tr>\n",
       "    <tr>\n",
       "      <th>5</th>\n",
       "      <td>Movie 6</td>\n",
       "      <td>Fantasy</td>\n",
       "      <td>1997</td>\n",
       "      <td>2.4</td>\n",
       "      <td>485.22</td>\n",
       "      <td>77.0</td>\n",
       "    </tr>\n",
       "    <tr>\n",
       "      <th>6</th>\n",
       "      <td>Movie 7</td>\n",
       "      <td>Mystery</td>\n",
       "      <td>2021</td>\n",
       "      <td>5.1</td>\n",
       "      <td>1683.99</td>\n",
       "      <td>50.0</td>\n",
       "    </tr>\n",
       "    <tr>\n",
       "      <th>7</th>\n",
       "      <td>Movie 8</td>\n",
       "      <td>Comedy</td>\n",
       "      <td>2005</td>\n",
       "      <td>4.0</td>\n",
       "      <td>1062.13</td>\n",
       "      <td>61.0</td>\n",
       "    </tr>\n",
       "    <tr>\n",
       "      <th>8</th>\n",
       "      <td>Movie 9</td>\n",
       "      <td>Horror</td>\n",
       "      <td>1992</td>\n",
       "      <td>2.8</td>\n",
       "      <td>1592.74</td>\n",
       "      <td>73.0</td>\n",
       "    </tr>\n",
       "    <tr>\n",
       "      <th>9</th>\n",
       "      <td>Movie 10</td>\n",
       "      <td>Drama</td>\n",
       "      <td>1996</td>\n",
       "      <td>3.2</td>\n",
       "      <td>1352.66</td>\n",
       "      <td>69.0</td>\n",
       "    </tr>\n",
       "  </tbody>\n",
       "</table>\n",
       "</div>"
      ],
      "text/plain": [
       "  Movie Name      Genre  Release_Year  IMDb_Rating  Revenue  Rank\n",
       "0    Movie 1     Sci-Fi          2000          6.0  1680.53  41.0\n",
       "1    Movie 2  Adventure          2000          2.2   987.24  79.0\n",
       "2    Movie 3    Romance          2002          5.2  1122.13  49.0\n",
       "3    Movie 4    Romance          2001          4.5   581.84  56.0\n",
       "4    Movie 5     Action          2012          6.6  1205.51  35.0\n",
       "5    Movie 6    Fantasy          1997          2.4   485.22  77.0\n",
       "6    Movie 7    Mystery          2021          5.1  1683.99  50.0\n",
       "7    Movie 8     Comedy          2005          4.0  1062.13  61.0\n",
       "8    Movie 9     Horror          1992          2.8  1592.74  73.0\n",
       "9   Movie 10      Drama          1996          3.2  1352.66  69.0"
      ]
     },
     "execution_count": 78,
     "metadata": {},
     "output_type": "execute_result"
    }
   ],
   "source": [
    "df.head(10)"
   ]
  },
  {
   "cell_type": "code",
   "execution_count": 79,
   "id": "3d8a7e40-a3c6-448b-87d4-beb7f9d92e63",
   "metadata": {},
   "outputs": [
    {
     "data": {
      "text/html": [
       "<div>\n",
       "<style scoped>\n",
       "    .dataframe tbody tr th:only-of-type {\n",
       "        vertical-align: middle;\n",
       "    }\n",
       "\n",
       "    .dataframe tbody tr th {\n",
       "        vertical-align: top;\n",
       "    }\n",
       "\n",
       "    .dataframe thead th {\n",
       "        text-align: right;\n",
       "    }\n",
       "</style>\n",
       "<table border=\"1\" class=\"dataframe\">\n",
       "  <thead>\n",
       "    <tr style=\"text-align: right;\">\n",
       "      <th></th>\n",
       "      <th>Movie Name</th>\n",
       "      <th>Genre</th>\n",
       "      <th>Release_Year</th>\n",
       "      <th>IMDb_Rating</th>\n",
       "      <th>Revenue</th>\n",
       "      <th>Rank</th>\n",
       "    </tr>\n",
       "  </thead>\n",
       "  <tbody>\n",
       "    <tr>\n",
       "      <th>995</th>\n",
       "      <td>Movie 996</td>\n",
       "      <td>Sci-Fi</td>\n",
       "      <td>2013</td>\n",
       "      <td>8.7</td>\n",
       "      <td>456.39</td>\n",
       "      <td>14.0</td>\n",
       "    </tr>\n",
       "    <tr>\n",
       "      <th>996</th>\n",
       "      <td>Movie 997</td>\n",
       "      <td>Adventure</td>\n",
       "      <td>1993</td>\n",
       "      <td>6.2</td>\n",
       "      <td>1255.27</td>\n",
       "      <td>39.0</td>\n",
       "    </tr>\n",
       "    <tr>\n",
       "      <th>997</th>\n",
       "      <td>Movie 998</td>\n",
       "      <td>Fantasy</td>\n",
       "      <td>2016</td>\n",
       "      <td>8.1</td>\n",
       "      <td>1161.96</td>\n",
       "      <td>20.0</td>\n",
       "    </tr>\n",
       "    <tr>\n",
       "      <th>998</th>\n",
       "      <td>Movie 999</td>\n",
       "      <td>Action</td>\n",
       "      <td>1996</td>\n",
       "      <td>8.9</td>\n",
       "      <td>941.67</td>\n",
       "      <td>12.0</td>\n",
       "    </tr>\n",
       "    <tr>\n",
       "      <th>999</th>\n",
       "      <td>Movie 1000</td>\n",
       "      <td>Horror</td>\n",
       "      <td>1995</td>\n",
       "      <td>9.4</td>\n",
       "      <td>1390.70</td>\n",
       "      <td>7.0</td>\n",
       "    </tr>\n",
       "  </tbody>\n",
       "</table>\n",
       "</div>"
      ],
      "text/plain": [
       "     Movie Name      Genre  Release_Year  IMDb_Rating  Revenue  Rank\n",
       "995   Movie 996     Sci-Fi          2013          8.7   456.39  14.0\n",
       "996   Movie 997  Adventure          1993          6.2  1255.27  39.0\n",
       "997   Movie 998    Fantasy          2016          8.1  1161.96  20.0\n",
       "998   Movie 999     Action          1996          8.9   941.67  12.0\n",
       "999  Movie 1000     Horror          1995          9.4  1390.70   7.0"
      ]
     },
     "execution_count": 79,
     "metadata": {},
     "output_type": "execute_result"
    }
   ],
   "source": [
    "df.tail(5)"
   ]
  },
  {
   "cell_type": "code",
   "execution_count": 82,
   "id": "75d02e66-ca07-4dca-9f8d-ae0e327785b4",
   "metadata": {},
   "outputs": [
    {
     "name": "stdout",
     "output_type": "stream",
     "text": [
      "Index(['Movie Name', 'Genre', 'Release_Year', 'IMDb_Rating', 'Revenue',\n",
      "       'Rank'],\n",
      "      dtype='object')\n"
     ]
    }
   ],
   "source": [
    "print(df.columns)\n"
   ]
  },
  {
   "cell_type": "code",
   "execution_count": 83,
   "id": "bfd523db-d7ad-4216-9309-18ff25fafc71",
   "metadata": {},
   "outputs": [
    {
     "name": "stdout",
     "output_type": "stream",
     "text": [
      "       Genre  Average IMDb Rating\n",
      "0     Action             5.670192\n",
      "1  Adventure             5.012500\n",
      "2     Comedy             5.442727\n",
      "3      Drama             5.173451\n",
      "4    Fantasy             5.200000\n",
      "5     Horror             5.814444\n",
      "6    Mystery             5.778652\n",
      "7    Romance             5.938462\n",
      "8     Sci-Fi             5.445161\n",
      "9   Thriller             5.267290\n"
     ]
    }
   ],
   "source": [
    "df_genre_avg_rating = df.groupby(\"Genre\")[\"IMDb_Rating\"].mean().reset_index()\n",
    "df_genre_avg_rating.columns = [\"Genre\", \"Average IMDb Rating\"]\n",
    "print(df_genre_avg_rating)\n"
   ]
  },
  {
   "cell_type": "code",
   "execution_count": 84,
   "id": "7053166f-a209-46a7-a1bd-80ff2be3e2bb",
   "metadata": {},
   "outputs": [
    {
     "name": "stdout",
     "output_type": "stream",
     "text": [
      "    Release_Year  Number of Movies\n",
      "10          1980                26\n",
      "39          1981                17\n",
      "28          1982                21\n",
      "40          1983                16\n",
      "42          1984                16\n",
      "5           1985                28\n",
      "26          1986                21\n",
      "38          1987                17\n",
      "33          1988                20\n",
      "1           1989                30\n",
      "23          1990                21\n",
      "25          1991                21\n",
      "8           1992                26\n",
      "27          1993                21\n",
      "18          1994                23\n",
      "6           1995                27\n",
      "9           1996                26\n",
      "21          1997                22\n",
      "4           1998                29\n",
      "11          1999                25\n",
      "2           2000                29\n",
      "20          2001                23\n",
      "15          2002                24\n",
      "13          2003                25\n",
      "29          2004                20\n",
      "24          2005                21\n",
      "16          2006                23\n",
      "3           2007                29\n",
      "14          2008                24\n",
      "22          2009                21\n",
      "30          2010                20\n",
      "17          2011                23\n",
      "31          2012                20\n",
      "7           2013                26\n",
      "34          2014                20\n",
      "19          2015                23\n",
      "44          2016                14\n",
      "36          2017                18\n",
      "35          2018                18\n",
      "43          2019                15\n",
      "32          2020                20\n",
      "41          2021                16\n",
      "12          2022                25\n",
      "37          2023                18\n",
      "0           2024                32\n"
     ]
    }
   ],
   "source": [
    "df_yearly_counts = df[\"Release_Year\"].value_counts().reset_index()\n",
    "df_yearly_counts.columns = [\"Release_Year\", \"Number of Movies\"]\n",
    "df_yearly_counts = df_yearly_counts.sort_values(\"Release_Year\")\n",
    "print(df_yearly_counts)\n"
   ]
  },
  {
   "cell_type": "code",
   "execution_count": 86,
   "id": "062e2087-42e1-40d3-9f79-3f87dba2b685",
   "metadata": {},
   "outputs": [
    {
     "name": "stdout",
     "output_type": "stream",
     "text": [
      "       Genre  Total Box Office Collection\n",
      "2     Comedy                    122686.63\n",
      "3      Drama                    120311.32\n",
      "9   Thriller                    112412.12\n",
      "0     Action                    111137.94\n",
      "4    Fantasy                    109849.86\n",
      "1  Adventure                    103864.42\n",
      "6    Mystery                     98832.93\n",
      "7    Romance                     94413.72\n",
      "5     Horror                     90395.52\n",
      "8     Sci-Fi                     85811.80\n"
     ]
    }
   ],
   "source": [
    "df_genre_revenue = df.groupby(\"Genre\")[\"Revenue\"].sum().reset_index()\n",
    "df_genre_revenue.columns = [\"Genre\", \"Total Box Office Collection\"]\n",
    "df_genre_revenue = df_genre_revenue.sort_values(\"Total Box Office Collection\", ascending=False)\n",
    "print(df_genre_revenue)\n"
   ]
  },
  {
   "cell_type": "code",
   "execution_count": 85,
   "id": "5136f986-15dd-416d-9d63-d40937fec22e",
   "metadata": {},
   "outputs": [
    {
     "name": "stdout",
     "output_type": "stream",
     "text": [
      "       Genre  Total Box Office Collection\n",
      "2     Comedy                    122686.63\n",
      "3      Drama                    120311.32\n",
      "9   Thriller                    112412.12\n",
      "0     Action                    111137.94\n",
      "4    Fantasy                    109849.86\n",
      "1  Adventure                    103864.42\n",
      "6    Mystery                     98832.93\n",
      "7    Romance                     94413.72\n",
      "5     Horror                     90395.52\n",
      "8     Sci-Fi                     85811.80\n"
     ]
    }
   ],
   "source": [
    "df_genre_revenue = df.groupby(\"Genre\")[\"Revenue\"].sum().reset_index()\n",
    "df_genre_revenue.columns = [\"Genre\", \"Total Box Office Collection\"]\n",
    "df_genre_revenue = df_genre_revenue.sort_values(\"Total Box Office Collection\", ascending=False)\n",
    "print(df_genre_revenue)\n"
   ]
  },
  {
   "cell_type": "code",
   "execution_count": null,
   "id": "7fa07951-7a0a-4114-adf5-295e3b54eba6",
   "metadata": {},
   "outputs": [],
   "source": []
  }
 ],
 "metadata": {
  "kernelspec": {
   "display_name": "Python 3 (ipykernel)",
   "language": "python",
   "name": "python3"
  },
  "language_info": {
   "codemirror_mode": {
    "name": "ipython",
    "version": 3
   },
   "file_extension": ".py",
   "mimetype": "text/x-python",
   "name": "python",
   "nbconvert_exporter": "python",
   "pygments_lexer": "ipython3",
   "version": "3.11.7"
  }
 },
 "nbformat": 4,
 "nbformat_minor": 5
}
